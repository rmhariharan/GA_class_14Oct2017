{
 "cells": [
  {
   "cell_type": "markdown",
   "metadata": {},
   "source": [
    "(1) Write a script that takes as input two strings,and outputs a new string made of the first and last characters of the two strings. E.g. input string \"good boy\" and \"bad show\" outputs \"gybw\""
   ]
  },
  {
   "cell_type": "code",
   "execution_count": 2,
   "metadata": {},
   "outputs": [
    {
     "name": "stdout",
     "output_type": "stream",
     "text": [
      "gybw\n"
     ]
    }
   ],
   "source": [
    "#string_1 = input(\"Enter first string: \")\n",
    "#string_2 = input(\"Enter second string: \")\n",
    "\n",
    "string_1 = \"good boy\"\n",
    "\n",
    "string_2 = \"bad show\"\n",
    "\n",
    "new_string = string_1[0]+string_1[-1] + string_2[0] + string_2[-1]\n",
    "\n",
    "print(new_string)"
   ]
  },
  {
   "cell_type": "markdown",
   "metadata": {},
   "source": [
    "(2) Write a script to which will convert an all uppercase word into a all lowercase word except the first character\n",
    "without using a for loop !"
   ]
  },
  {
   "cell_type": "code",
   "execution_count": 4,
   "metadata": {},
   "outputs": [
    {
     "name": "stdout",
     "output_type": "stream",
     "text": [
      "General assembly\n"
     ]
    }
   ],
   "source": [
    "#upper_string = input(\"Enter your upper case string: \")\n",
    "upper_string = \"GENERAl ASSEMBLY\"\n",
    "print(upper_string[0]+ upper_string[1:].lower())"
   ]
  },
  {
   "cell_type": "markdown",
   "metadata": {},
   "source": [
    "(3) Find the first occurences of the words 'not' and 'good'. If not preceeds good, change the whole substring to 'bad'\n",
    "\"This music is not very good\" changes to \"This music is bad\""
   ]
  },
  {
   "cell_type": "code",
   "execution_count": 5,
   "metadata": {},
   "outputs": [
    {
     "name": "stdout",
     "output_type": "stream",
     "text": [
      "This music is bad\n"
     ]
    }
   ],
   "source": [
    "myword = \"This music is not very good\"\n",
    "\n",
    "if myword.find(\"not\") < myword.find(\"good\"):\n",
    "    not_index = myword.find(\"not\")\n",
    "    good_index = myword.find(\"good\")\n",
    "    my_substring = myword[not_index:(good_index+4)]\n",
    "    print(myword.replace(my_substring,\"bad\"))\n",
    "else:\n",
    "    print(myword)"
   ]
  },
  {
   "cell_type": "code",
   "execution_count": null,
   "metadata": {
    "collapsed": true
   },
   "outputs": [],
   "source": []
  }
 ],
 "metadata": {
  "kernelspec": {
   "display_name": "Python 3",
   "language": "python",
   "name": "python3"
  },
  "language_info": {
   "codemirror_mode": {
    "name": "ipython",
    "version": 3
   },
   "file_extension": ".py",
   "mimetype": "text/x-python",
   "name": "python",
   "nbconvert_exporter": "python",
   "pygments_lexer": "ipython3",
   "version": "3.6.1"
  }
 },
 "nbformat": 4,
 "nbformat_minor": 2
}
