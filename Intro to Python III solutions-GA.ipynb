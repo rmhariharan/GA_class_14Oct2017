{
 "cells": [
  {
   "cell_type": "markdown",
   "metadata": {},
   "source": [
    "1.Given a dictionary of {'AMZN1':'AWS','AMZN2': 'Alexa','GOOG1': \"GCP\", \n",
    "                       'GOOG2': 'Google Home','GOOG3': 'Google Phone'},\n",
    "where AMZN is Amazon, and GOOG is Google\n",
    "print out key value pairs in the format AMZN1 --> AWS"
   ]
  },
  {
   "cell_type": "code",
   "execution_count": 1,
   "metadata": {},
   "outputs": [
    {
     "name": "stdout",
     "output_type": "stream",
     "text": [
      "AMZN1  --> AWS\n",
      "AMZN2  --> Alexa\n",
      "GOOG1  --> GCP\n",
      "GOOG2  --> Google Home\n",
      "GOOG3  --> Google Phone\n"
     ]
    }
   ],
   "source": [
    "# We use a for loop here\n",
    "my_dict = {'AMZN1':'AWS','AMZN2': 'Alexa','GOOG1': \"GCP\",'GOOG2': 'Google Home','GOOG3': 'Google Phone'}\n",
    "\n",
    "for i in my_dict.keys():\n",
    "    print(i,' -->', my_dict[i])"
   ]
  },
  {
   "cell_type": "markdown",
   "metadata": {},
   "source": [
    "2.Given a dictionary {'AMZN1':'AWS','AMZN2': 'Alexa','GOOG1': \"GCP\", \n",
    "                       'GOOG2': 'Google Home','GOOG3': 'Google Phone'}\n",
    "print out all Google related terms from the dictionary from the dictionary."
   ]
  },
  {
   "cell_type": "code",
   "execution_count": 2,
   "metadata": {},
   "outputs": [
    {
     "name": "stdout",
     "output_type": "stream",
     "text": [
      "GOOG1 --> GCP\n",
      "GOOG2 --> Google Home\n",
      "GOOG3 --> Google Phone\n"
     ]
    }
   ],
   "source": [
    "# We use for loop and in here\n",
    "\n",
    "my_dict = {'AMZN1':'AWS','AMZN2': 'Alexa','GOOG1': \"GCP\",'GOOG2': 'Google Home','GOOG3': 'Google Phone'}\n",
    "for i in my_dict.keys():\n",
    "    if 'GOOG' in i:\n",
    "        print(i, '-->', my_dict[i])"
   ]
  },
  {
   "cell_type": "code",
   "execution_count": null,
   "metadata": {
    "collapsed": true
   },
   "outputs": [],
   "source": []
  },
  {
   "cell_type": "markdown",
   "metadata": {},
   "source": [
    "3.Write a function that returns the square of a number"
   ]
  },
  {
   "cell_type": "code",
   "execution_count": 2,
   "metadata": {},
   "outputs": [
    {
     "data": {
      "text/plain": [
       "121"
      ]
     },
     "execution_count": 2,
     "metadata": {},
     "output_type": "execute_result"
    }
   ],
   "source": [
    "def square_num(num):\n",
    "    return num**2\n",
    "\n",
    "square_num(11)"
   ]
  },
  {
   "cell_type": "markdown",
   "metadata": {},
   "source": [
    "4.Write a function that counts and return the number of 'a's in a string"
   ]
  },
  {
   "cell_type": "code",
   "execution_count": 4,
   "metadata": {},
   "outputs": [
    {
     "data": {
      "text/plain": [
       "2"
      ]
     },
     "execution_count": 4,
     "metadata": {},
     "output_type": "execute_result"
    }
   ],
   "source": [
    "def a_counter(string1):\n",
    "    a_count = 0\n",
    "    for letter in string1:\n",
    "        if letter == 'a' or letter == 'A':\n",
    "            a_count = a_count + 1\n",
    "    return a_count\n",
    "\n",
    "a_counter('America')"
   ]
  },
  {
   "cell_type": "markdown",
   "metadata": {},
   "source": [
    "5.Write a function to read in a file, count the number of 'a's in it and write out the results to disk"
   ]
  },
  {
   "cell_type": "code",
   "execution_count": 5,
   "metadata": {
    "collapsed": true
   },
   "outputs": [],
   "source": [
    "def a_counter_next(infile,outfile):\n",
    "    my_file = open(infile)\n",
    "    mydata = my_file.readlines()\n",
    "    #print(mydata)\n",
    "    a_count2 = 0\n",
    "    for letter in mydata[0]:\n",
    "        if letter == 'a' or letter == 'A':\n",
    "            a_count2 = a_count2 + 1\n",
    "    a_count2 = \"Number of a's is equal to \" + str(a_count2) \n",
    "    my_file.close()\n",
    "    out_file = open(outfile,\"w\")\n",
    "    out_file.write(a_count2)\n",
    "    out_file.close()\n",
    "\n",
    "a_counter_next(\"/Users/rharihar/Desktop/test_file_alabama.txt\",\"/Users/rharihar/Desktop/out_file_alabama.txt\")"
   ]
  },
  {
   "cell_type": "code",
   "execution_count": null,
   "metadata": {
    "collapsed": true
   },
   "outputs": [],
   "source": []
  }
 ],
 "metadata": {
  "kernelspec": {
   "display_name": "Python 3",
   "language": "python",
   "name": "python3"
  },
  "language_info": {
   "codemirror_mode": {
    "name": "ipython",
    "version": 3
   },
   "file_extension": ".py",
   "mimetype": "text/x-python",
   "name": "python",
   "nbconvert_exporter": "python",
   "pygments_lexer": "ipython3",
   "version": "3.6.1"
  }
 },
 "nbformat": 4,
 "nbformat_minor": 1
}
