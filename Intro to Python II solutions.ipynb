{
 "cells": [
  {
   "cell_type": "markdown",
   "metadata": {},
   "source": [
    "1.Identify all strings containing the letter 'o' in this list 'Fred Hutch','Python','Object','For loop','lists','Tuples','seattle'.Then make a new list with these words, and print them out."
   ]
  },
  {
   "cell_type": "code",
   "execution_count": null,
   "metadata": {},
   "outputs": [],
   "source": [
    "my_list = ['General Assembly','Python','Object','For loop','lists','Tuples','seattle']\n",
    "new_list = list()\n",
    "for word in my_list:\n",
    "    if 'o' in word or 'O' in word:\n",
    "        new_list.append(word)\n",
    "print(new_list)"
   ]
  },
  {
   "cell_type": "markdown",
   "metadata": {},
   "source": [
    "2.You are given a list of integers,2,3,4,5,6. Square them, make a new list, print it out"
   ]
  },
  {
   "cell_type": "code",
   "execution_count": null,
   "metadata": {},
   "outputs": [],
   "source": [
    "my_list = [1,2,3,4,5,6,7]\n",
    "new_list = list()\n",
    "\n",
    "for num in my_list:\n",
    "    num = num**2\n",
    "    new_list.append(num)\n",
    "\n",
    "print(new_list)"
   ]
  },
  {
   "cell_type": "markdown",
   "metadata": {},
   "source": [
    "3.Remove redundancy in a list . e.g. input list is [20,14,14,14,10,10] output list is [20,14,10]"
   ]
  },
  {
   "cell_type": "code",
   "execution_count": 1,
   "metadata": {},
   "outputs": [
    {
     "name": "stdout",
     "output_type": "stream",
     "text": [
      "[20, 14, 10]\n"
     ]
    }
   ],
   "source": [
    "my_list = [20,14,14,14,10,10,20]\n",
    "new_list = list()\n",
    "for item in my_list:\n",
    "    if item not in new_list:\n",
    "        new_list.append(item)\n",
    "print(new_list)"
   ]
  },
  {
   "cell_type": "markdown",
   "metadata": {},
   "source": [
    "4.Write out output from drill question 1 into a text file on your local disk"
   ]
  },
  {
   "cell_type": "code",
   "execution_count": null,
   "metadata": {
    "collapsed": true
   },
   "outputs": [],
   "source": [
    "#Use open()"
   ]
  },
  {
   "cell_type": "code",
   "execution_count": null,
   "metadata": {
    "collapsed": true
   },
   "outputs": [],
   "source": []
  }
 ],
 "metadata": {
  "kernelspec": {
   "display_name": "Python 3",
   "language": "python",
   "name": "python3"
  },
  "language_info": {
   "codemirror_mode": {
    "name": "ipython",
    "version": 3
   },
   "file_extension": ".py",
   "mimetype": "text/x-python",
   "name": "python",
   "nbconvert_exporter": "python",
   "pygments_lexer": "ipython3",
   "version": "3.6.1"
  }
 },
 "nbformat": 4,
 "nbformat_minor": 1
}
