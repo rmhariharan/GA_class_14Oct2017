{
 "cells": [
  {
   "cell_type": "markdown",
   "metadata": {},
   "source": [
    "# Running and clearing cells, active & inactive cells, changing cell type, cell insert, kernel interrupt & restart,drawback of using notebooks, shutting down a notebook, python comments, etc..."
   ]
  },
  {
   "cell_type": "markdown",
   "metadata": {},
   "source": [
    "Things you typically find in a newspaper\n",
    "\n",
    "1. Words, words, and more words\n",
    "2. Numbers,numbers, and more numbers\n",
    "3. Other weird symbols ($, &, @)\n",
    "4. And then mixtures of these\n",
    "\n",
    "You want to try pluggin some of these into your computer and see what you can \"do\" to them."
   ]
  },
  {
   "cell_type": "code",
   "execution_count": 1,
   "metadata": {},
   "outputs": [
    {
     "name": "stdout",
     "output_type": "stream",
     "text": [
      "<class 'int'>\n"
     ]
    }
   ],
   "source": [
    "'''You really want to do cool and nerdy things like predicting the \"coolness\" of today's edition of The New York Times.\n",
    "If you want to to be able to to these things, you need to out these \"things\" into variables in Python'''\n",
    "\n",
    "my_first_variable = 1000\n",
    "\n",
    "# What does the computer think of it?\n",
    "\n",
    "print(type(my_first_variable))\n"
   ]
  },
  {
   "cell_type": "code",
   "execution_count": 2,
   "metadata": {},
   "outputs": [
    {
     "data": {
      "text/plain": [
       "1100"
      ]
     },
     "execution_count": 2,
     "metadata": {},
     "output_type": "execute_result"
    }
   ],
   "source": [
    "#What kind of things can you do to an integar?\n",
    "#Hint: Add, subtract,multiply, divide, exponent, and what not!\n",
    "\n",
    "my_first_variable + 100"
   ]
  },
  {
   "cell_type": "code",
   "execution_count": 3,
   "metadata": {},
   "outputs": [
    {
     "name": "stdout",
     "output_type": "stream",
     "text": [
      "<class 'float'>\n"
     ]
    }
   ],
   "source": [
    "my_first_variable = 100.000459\n",
    "\n",
    "# What does the computer think of it?\n",
    "\n",
    "print(type(my_first_variable))"
   ]
  },
  {
   "cell_type": "markdown",
   "metadata": {},
   "source": [
    "Enough is enough, we are done with numbers, let's turn to something else'"
   ]
  },
  {
   "cell_type": "code",
   "execution_count": 5,
   "metadata": {},
   "outputs": [
    {
     "name": "stdout",
     "output_type": "stream",
     "text": [
      "<class 'str'>\n",
      "The New York Times\n"
     ]
    }
   ],
   "source": [
    "my_first_variable = \"The New York Times\"\n",
    "\n",
    "# What does the computer think of it?\n",
    "\n",
    "print(type(my_first_variable))\n",
    "print(my_first_variable)"
   ]
  },
  {
   "cell_type": "markdown",
   "metadata": {},
   "source": [
    "Looks like my_first_variable is really fickle, points to anything you ask it to!"
   ]
  },
  {
   "cell_type": "code",
   "execution_count": 6,
   "metadata": {},
   "outputs": [
    {
     "data": {
      "text/plain": [
       "18"
      ]
     },
     "execution_count": 6,
     "metadata": {},
     "output_type": "execute_result"
    }
   ],
   "source": [
    "# How long is the thing that this variable points to?\n",
    "\n",
    "len(my_first_variable)"
   ]
  },
  {
   "cell_type": "code",
   "execution_count": 7,
   "metadata": {},
   "outputs": [
    {
     "data": {
      "text/plain": [
       "'The New York Times is good'"
      ]
     },
     "execution_count": 7,
     "metadata": {},
     "output_type": "execute_result"
    }
   ],
   "source": [
    "# Can you add or multiply string? What does that even mean?\n",
    "\n",
    "my_first_variable + \" is good\""
   ]
  },
  {
   "cell_type": "code",
   "execution_count": 8,
   "metadata": {},
   "outputs": [
    {
     "data": {
      "text/plain": [
       "'The New York TimesThe New York TimesThe New York Times'"
      ]
     },
     "execution_count": 8,
     "metadata": {},
     "output_type": "execute_result"
    }
   ],
   "source": [
    "my_first_variable * 3"
   ]
  },
  {
   "cell_type": "code",
   "execution_count": 10,
   "metadata": {},
   "outputs": [
    {
     "data": {
      "text/plain": [
       "'u'"
      ]
     },
     "execution_count": 10,
     "metadata": {},
     "output_type": "execute_result"
    }
   ],
   "source": [
    "#Indexing method 1. left to right\n",
    "\n",
    "my_first_variable = \"Supercalifragilisticexpealidocious\"\n",
    "my_first_variable[1]"
   ]
  },
  {
   "cell_type": "code",
   "execution_count": 12,
   "metadata": {},
   "outputs": [
    {
     "data": {
      "text/plain": [
       "'Super'"
      ]
     },
     "execution_count": 12,
     "metadata": {},
     "output_type": "execute_result"
    }
   ],
   "source": [
    "my_first_variable[0:5]"
   ]
  },
  {
   "cell_type": "code",
   "execution_count": 13,
   "metadata": {},
   "outputs": [
    {
     "data": {
      "text/plain": [
       "'s'"
      ]
     },
     "execution_count": 13,
     "metadata": {},
     "output_type": "execute_result"
    }
   ],
   "source": [
    "#How do we get at the last letter?\n",
    "#Introduce negative indexing\n",
    "\n",
    "my_first_variable[-1]"
   ]
  },
  {
   "cell_type": "code",
   "execution_count": 14,
   "metadata": {
    "collapsed": true
   },
   "outputs": [],
   "source": [
    "my_first_variable = 1000"
   ]
  },
  {
   "cell_type": "code",
   "execution_count": null,
   "metadata": {
    "collapsed": true
   },
   "outputs": [],
   "source": [
    "# What else can I do to numbers, or strings, or to anything?\n",
    "\n",
    "my_first_variable."
   ]
  },
  {
   "cell_type": "code",
   "execution_count": 15,
   "metadata": {},
   "outputs": [
    {
     "name": "stdout",
     "output_type": "stream",
     "text": [
      "Take the car unless you don't mind getting drenched\n"
     ]
    }
   ],
   "source": [
    "#Linear flow is kind of boring.We need flow of control.\n",
    "#Flow of control Part I. Conditional Statements aka if elif statements\n",
    "\n",
    "statement = \"Crazy Rain no Traffic\"\n",
    "\n",
    "if statement == \"Crazy Rain no Traffic\":\n",
    "    print(\"Take the car unless you don't mind getting drenched\")\n",
    "elif statement == \"Crazy Traffic no Rain\":\n",
    "    print(\"Take the bus unless you don't mind your body taking root in the car\")\n",
    "elif statement == \"Crazy Traffic Crazy Rain\":\n",
    "    print(\"Take to the Sofa, and work from home\")\n",
    "else:\n",
    "    print(\"Go on a vacation, and enjoy life!\")"
   ]
  },
  {
   "cell_type": "markdown",
   "metadata": {},
   "source": [
    "# Drill time!"
   ]
  },
  {
   "cell_type": "markdown",
   "metadata": {},
   "source": [
    "(1) Write a script that takes as input two strings,and outputs a new string made of the first and last characters of the two strings. E.g. input string \"good boy\" and \"bad show\" outputs \"gybw\".\n",
    "\n",
    "(2) Write a script which will convert an all uppercase word into a all lowercase word except the first character without using a for loop !\n",
    "\n",
    "(3) Find the first occurences of the words 'not' and 'good'. If not preceeds good, change the whole substring to 'bad'\n",
    "Use case: \"This music is not very good\" changes to \"This music is bad\""
   ]
  },
  {
   "cell_type": "code",
   "execution_count": null,
   "metadata": {
    "collapsed": true
   },
   "outputs": [],
   "source": []
  }
 ],
 "metadata": {
  "kernelspec": {
   "display_name": "Python 3",
   "language": "python",
   "name": "python3"
  },
  "language_info": {
   "codemirror_mode": {
    "name": "ipython",
    "version": 3
   },
   "file_extension": ".py",
   "mimetype": "text/x-python",
   "name": "python",
   "nbconvert_exporter": "python",
   "pygments_lexer": "ipython3",
   "version": "3.6.1"
  }
 },
 "nbformat": 4,
 "nbformat_minor": 2
}
